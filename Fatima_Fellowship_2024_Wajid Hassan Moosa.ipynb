{
  "nbformat": 4,
  "nbformat_minor": 0,
  "metadata": {
    "colab": {
      "provenance": [],
      "include_colab_link": true
    },
    "kernelspec": {
      "name": "python3",
      "display_name": "Python 3"
    }
  },
  "cells": [
    {
      "cell_type": "markdown",
      "metadata": {
        "id": "view-in-github",
        "colab_type": "text"
      },
      "source": [
        "<a href=\"https://colab.research.google.com/github/hassan-wajid/AbusiveLanguageDataset/blob/master/Fatima_Fellowship_2024_Wajid%20Hassan%20Moosa.ipynb\" target=\"_parent\"><img src=\"https://colab.research.google.com/assets/colab-badge.svg\" alt=\"Open In Colab\"/></a>"
      ]
    },
    {
      "cell_type": "markdown",
      "metadata": {
        "id": "eBpjBBZc6IvA"
      },
      "source": [
        "# Fatima Fellowship Coding Challenge: Finetune a Generative AI Model\n",
        "\n",
        "Thank you for applying to the Fatima Fellowship. To help us select the Fellows and assess your ability to do machine learning research, we are asking that you complete a short coding challenge.\n",
        "\n",
        "**How to submit**: Please make a copy of this colab notebook, add your code and results, and submit your colab notebook along with your application. If you have never used a colab notebook, [check out this video](https://www.youtube.com/watch?v=i-HnvsehuSw)"
      ]
    },
    {
      "cell_type": "markdown",
      "source": [
        "\n",
        "\n",
        "---\n",
        "\n",
        "\n",
        "### **Important**: Beore you get started, please make sure to make a **copy of this notebook** and set sharing permissions so that **anyone with the link can view**. Otherwise, we will NOT be able to assess your application.\n",
        "\n",
        "\n",
        "\n",
        "---\n",
        "\n"
      ],
      "metadata": {
        "id": "lQNUZjvuRt-m"
      }
    },
    {
      "cell_type": "markdown",
      "source": [
        "# 0. Description\n",
        "\n",
        "The purpose of this coding challenge is to finetune a generative AI model on a dataset that *you* build.\n",
        "\n",
        "The dataset can be of any kind! For example, you could collect a dataset of football jerserys and train a machine learning model to be able to generate jerseys different teams apart. Or, you could finetune a generation model to be able to generate accurate recipes about a particular dish specific to your cuisine.\n",
        "\n",
        "We are interested in learning more about you and your coding abilities through this short exercise."
      ],
      "metadata": {
        "id": "qpFKMaPeggyX"
      }
    },
    {
      "cell_type": "markdown",
      "metadata": {
        "id": "braBzmRpMe7_"
      },
      "source": [
        "# 1. Build a Dataset Based on Your Interests"
      ]
    },
    {
      "cell_type": "markdown",
      "metadata": {
        "id": "1IWw-NZf5WfF"
      },
      "source": [
        "In the first step, you'll be building your OWN dataset of any kind. We expect that many students might build this dataset by scraping the web e.g. Google Images, or extracting samples from existing datasets (e.g. [from Hugging Face](https://huggingface.co/datasets)). Some suggestions:\n",
        "\n",
        "* Dataset size: although this can very, we generally recommend that the dataset should have at least 100 (training and validation) samples.\n",
        "* Dataset diversity: make sure your dataset is sufficiently varied. For example, if your dataset consists of celebrity images, you probably want celebrities of different ages, ethnicities, genders, etc.\n",
        "\n",
        "You may find Python libraries that download images such as `google_images_download` useful.\n",
        "\n",
        "Once you have built your dataset, please upload it to Hugging Face Hub using the `datasets` library and include the link below:"
      ]
    },
    {
      "cell_type": "code",
      "source": [
        "### WRITE YOUR CODE TO BUILD THE DATASET HERE"
      ],
      "metadata": {
        "id": "K2GJaYBpw91T"
      },
      "execution_count": null,
      "outputs": []
    },
    {
      "cell_type": "markdown",
      "source": [
        "**Link to the dataset on Hugging Face Hub:** [LINK HERE]"
      ],
      "metadata": {
        "id": "qSeLed2JxvGI"
      }
    },
    {
      "cell_type": "markdown",
      "metadata": {
        "id": "sFU9LTOyMiMj"
      },
      "source": [
        "# 2. Finetune a Foundation Model\n",
        "\n",
        "Now that you have collected a dataset, its time to pick a base model to finetune.\n",
        "\n",
        "\n",
        "* Go to the [Hugging Face Hub](https://huggingface.co/models) and pick a foundation model to fine-tune. (For example, if you are interested in generating images, you could pick [Stable Diffusion 1.5](https://huggingface.co/runwayml/stable-diffusion-v1-5) or [Stable Diffusion 3](https://huggingface.co/stabilityai/stable-diffusion-3-medium) as your base model.) Make sure to pick a model that can be loaded in the free tier of the Colab Notebook.\n",
        "* Then finetine the your model on the dataset that you collected in Step 1. There are different ways to finetune a model: [from LoRA to a full finetune](https://huggingface.co/docs/diffusers/v0.13.0/en/training/lora). Pick one of these methods, and explain your reasoning below. We suggest that you use use the `transformers` or `diffusers` library to finetune a foundation model.\n",
        "* Generate some samples from the base model and from the final finetuned model. How do they compare?  \n",
        "* [Upload the the model to the Hugging Face Hub](https://huggingface.co/docs/hub/adding-a-model), and add a link to your model below.\n"
      ]
    },
    {
      "cell_type": "code",
      "source": [
        "### WRITE YOUR CODE TO FINETUNE THE MODEL HERE"
      ],
      "metadata": {
        "id": "E90i018KyJH3"
      },
      "execution_count": null,
      "outputs": []
    },
    {
      "cell_type": "markdown",
      "source": [
        "**Write up**:\n",
        "* Explain what finetuning strategy you used and why\n",
        "\n",
        "[WRITE HERE]\n",
        "\n",
        "* Share some samples from the base model and from the final finetuned model. How do they compare?\n",
        "\n",
        "[WRITE HERE]\n",
        "\n",
        "**Link to the model on Hugging Face Hub:** [LINK HERE]"
      ],
      "metadata": {
        "id": "kpInVUMLyJ24"
      }
    }
  ]
}